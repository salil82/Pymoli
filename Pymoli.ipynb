{
 "cells": [
  {
   "cell_type": "code",
   "execution_count": 114,
   "metadata": {},
   "outputs": [],
   "source": [
    "import pandas as pd\n",
    "import numpy as np"
   ]
  },
  {
   "cell_type": "code",
   "execution_count": 115,
   "metadata": {},
   "outputs": [],
   "source": [
    "house_data = \"purchase_data.json\""
   ]
  },
  {
   "cell_type": "code",
   "execution_count": 116,
   "metadata": {},
   "outputs": [
    {
     "data": {
      "text/html": [
       "<div>\n",
       "<style scoped>\n",
       "    .dataframe tbody tr th:only-of-type {\n",
       "        vertical-align: middle;\n",
       "    }\n",
       "\n",
       "    .dataframe tbody tr th {\n",
       "        vertical-align: top;\n",
       "    }\n",
       "\n",
       "    .dataframe thead th {\n",
       "        text-align: right;\n",
       "    }\n",
       "</style>\n",
       "<table border=\"1\" class=\"dataframe\">\n",
       "  <thead>\n",
       "    <tr style=\"text-align: right;\">\n",
       "      <th></th>\n",
       "      <th>Age</th>\n",
       "      <th>Gender</th>\n",
       "      <th>Item ID</th>\n",
       "      <th>Item Name</th>\n",
       "      <th>Price</th>\n",
       "      <th>SN</th>\n",
       "    </tr>\n",
       "  </thead>\n",
       "  <tbody>\n",
       "    <tr>\n",
       "      <th>0</th>\n",
       "      <td>38</td>\n",
       "      <td>Male</td>\n",
       "      <td>165</td>\n",
       "      <td>Bone Crushing Silver Skewer</td>\n",
       "      <td>3.37</td>\n",
       "      <td>Aelalis34</td>\n",
       "    </tr>\n",
       "    <tr>\n",
       "      <th>1</th>\n",
       "      <td>21</td>\n",
       "      <td>Male</td>\n",
       "      <td>119</td>\n",
       "      <td>Stormbringer, Dark Blade of Ending Misery</td>\n",
       "      <td>2.32</td>\n",
       "      <td>Eolo46</td>\n",
       "    </tr>\n",
       "    <tr>\n",
       "      <th>2</th>\n",
       "      <td>34</td>\n",
       "      <td>Male</td>\n",
       "      <td>174</td>\n",
       "      <td>Primitive Blade</td>\n",
       "      <td>2.46</td>\n",
       "      <td>Assastnya25</td>\n",
       "    </tr>\n",
       "    <tr>\n",
       "      <th>3</th>\n",
       "      <td>21</td>\n",
       "      <td>Male</td>\n",
       "      <td>92</td>\n",
       "      <td>Final Critic</td>\n",
       "      <td>1.36</td>\n",
       "      <td>Pheusrical25</td>\n",
       "    </tr>\n",
       "    <tr>\n",
       "      <th>4</th>\n",
       "      <td>23</td>\n",
       "      <td>Male</td>\n",
       "      <td>63</td>\n",
       "      <td>Stormfury Mace</td>\n",
       "      <td>1.27</td>\n",
       "      <td>Aela59</td>\n",
       "    </tr>\n",
       "  </tbody>\n",
       "</table>\n",
       "</div>"
      ],
      "text/plain": [
       "   Age Gender  Item ID                                  Item Name  Price  \\\n",
       "0   38   Male      165                Bone Crushing Silver Skewer   3.37   \n",
       "1   21   Male      119  Stormbringer, Dark Blade of Ending Misery   2.32   \n",
       "2   34   Male      174                            Primitive Blade   2.46   \n",
       "3   21   Male       92                               Final Critic   1.36   \n",
       "4   23   Male       63                             Stormfury Mace   1.27   \n",
       "\n",
       "             SN  \n",
       "0     Aelalis34  \n",
       "1        Eolo46  \n",
       "2   Assastnya25  \n",
       "3  Pheusrical25  \n",
       "4        Aela59  "
      ]
     },
     "execution_count": 116,
     "metadata": {},
     "output_type": "execute_result"
    }
   ],
   "source": [
    "house_data_df = pd.read_json(house_data)\n",
    "house_data_df.head()"
   ]
  },
  {
   "cell_type": "code",
   "execution_count": 117,
   "metadata": {},
   "outputs": [
    {
     "data": {
      "text/plain": [
       "780"
      ]
     },
     "execution_count": 117,
     "metadata": {},
     "output_type": "execute_result"
    }
   ],
   "source": [
    "house_data_df['SN'].count()"
   ]
  },
  {
   "cell_type": "code",
   "execution_count": 123,
   "metadata": {},
   "outputs": [
    {
     "data": {
      "text/html": [
       "<div>\n",
       "<style scoped>\n",
       "    .dataframe tbody tr th:only-of-type {\n",
       "        vertical-align: middle;\n",
       "    }\n",
       "\n",
       "    .dataframe tbody tr th {\n",
       "        vertical-align: top;\n",
       "    }\n",
       "\n",
       "    .dataframe thead th {\n",
       "        text-align: right;\n",
       "    }\n",
       "</style>\n",
       "<table border=\"1\" class=\"dataframe\">\n",
       "  <thead>\n",
       "    <tr style=\"text-align: right;\">\n",
       "      <th></th>\n",
       "      <th>Total Players</th>\n",
       "    </tr>\n",
       "  </thead>\n",
       "  <tbody>\n",
       "    <tr>\n",
       "      <th>0</th>\n",
       "      <td>573</td>\n",
       "    </tr>\n",
       "  </tbody>\n",
       "</table>\n",
       "</div>"
      ],
      "text/plain": [
       "   Total Players\n",
       "0            573"
      ]
     },
     "execution_count": 123,
     "metadata": {},
     "output_type": "execute_result"
    }
   ],
   "source": [
    "# Total number of players\n",
    "\n",
    "purchasers = house_data_df.groupby('SN')['SN'].nunique()\n",
    "player_count = pd.DataFrame({\"Total Players\":[purchasers.count()]})\n",
    "player_count"
   ]
  },
  {
   "cell_type": "code",
   "execution_count": 124,
   "metadata": {},
   "outputs": [
    {
     "data": {
      "text/plain": [
       "183"
      ]
     },
     "execution_count": 124,
     "metadata": {},
     "output_type": "execute_result"
    }
   ],
   "source": [
    "# Number of unique items\n",
    "unique_items = house_data_df.groupby('Item ID')['Item ID'].nunique()\n",
    "unique_count = unique_items.count()\n",
    "unique_count"
   ]
  },
  {
   "cell_type": "code",
   "execution_count": 120,
   "metadata": {},
   "outputs": [
    {
     "data": {
      "text/plain": [
       "780"
      ]
     },
     "execution_count": 120,
     "metadata": {},
     "output_type": "execute_result"
    }
   ],
   "source": [
    "# Total Number of Purchases\n",
    "total_purchases = house_data_df['SN'].count()\n",
    "total_purchases"
   ]
  },
  {
   "cell_type": "code",
   "execution_count": 121,
   "metadata": {},
   "outputs": [
    {
     "data": {
      "text/plain": [
       "2286.33"
      ]
     },
     "execution_count": 121,
     "metadata": {},
     "output_type": "execute_result"
    }
   ],
   "source": [
    "# Total Revenue\n",
    "\n",
    "total_revenue = house_data_df['Price'].sum()\n",
    "total_revenue"
   ]
  },
  {
   "cell_type": "code",
   "execution_count": 122,
   "metadata": {},
   "outputs": [
    {
     "data": {
      "text/plain": [
       "2.9311923076923074"
      ]
     },
     "execution_count": 122,
     "metadata": {},
     "output_type": "execute_result"
    }
   ],
   "source": [
    "# Average purchase price\n",
    "\n",
    "avg_purchase_price = total_revenue / total_purchases\n",
    "avg_purchase_price"
   ]
  },
  {
   "cell_type": "code",
   "execution_count": 125,
   "metadata": {},
   "outputs": [
    {
     "data": {
      "text/html": [
       "<div>\n",
       "<style scoped>\n",
       "    .dataframe tbody tr th:only-of-type {\n",
       "        vertical-align: middle;\n",
       "    }\n",
       "\n",
       "    .dataframe tbody tr th {\n",
       "        vertical-align: top;\n",
       "    }\n",
       "\n",
       "    .dataframe thead th {\n",
       "        text-align: right;\n",
       "    }\n",
       "</style>\n",
       "<table border=\"1\" class=\"dataframe\">\n",
       "  <thead>\n",
       "    <tr style=\"text-align: right;\">\n",
       "      <th></th>\n",
       "      <th>Number of Unique Items</th>\n",
       "      <th>Average Price</th>\n",
       "      <th>Number of Purchases</th>\n",
       "      <th>Total Revenue</th>\n",
       "    </tr>\n",
       "  </thead>\n",
       "  <tbody>\n",
       "    <tr>\n",
       "      <th>0</th>\n",
       "      <td>183</td>\n",
       "      <td>$2.93</td>\n",
       "      <td>780</td>\n",
       "      <td>$2286.33</td>\n",
       "    </tr>\n",
       "  </tbody>\n",
       "</table>\n",
       "</div>"
      ],
      "text/plain": [
       "   Number of Unique Items Average Price  Number of Purchases Total Revenue\n",
       "0                     183         $2.93                  780      $2286.33"
      ]
     },
     "execution_count": 125,
     "metadata": {},
     "output_type": "execute_result"
    }
   ],
   "source": [
    "purchasing_analysis = pd.DataFrame({\"Number of Unique Items\":[unique_count], \n",
    "                                    \"Average Price\":[avg_purchase_price], \n",
    "                                    \"Number of Purchases\":[total_purchases],\n",
    "                                    \"Total Revenue\":[total_revenue]\n",
    "                                   })\n",
    "purchasing_analysis2 = purchasing_analysis[[\"Number of Unique Items\",\n",
    "                                            \"Average Price\",\n",
    "                                            \"Number of Purchases\",\n",
    "                                            \"Total Revenue\"\n",
    "                                           ]] \n",
    "\n",
    "purchasing_analysis2[\"Average Price\"] = purchasing_analysis2[\"Average Price\"].map(\"${:.2f}\".format)\n",
    "purchasing_analysis2[\"Total Revenue\"] = purchasing_analysis2[\"Total Revenue\"].map(\"${:.2f}\".format)\n",
    "purchasing_analysis2.head()"
   ]
  },
  {
   "cell_type": "code",
   "execution_count": 90,
   "metadata": {},
   "outputs": [
    {
     "data": {
      "text/plain": [
       "Gender\n",
       "Female                   100\n",
       "Male                     465\n",
       "Other / Non-Disclosed      8\n",
       "Name: SN, dtype: int64"
      ]
     },
     "execution_count": 90,
     "metadata": {},
     "output_type": "execute_result"
    }
   ],
   "source": [
    "gender_data = house_data_df.groupby('Gender')['SN'].nunique()\n",
    "gender_data"
   ]
  },
  {
   "cell_type": "code",
   "execution_count": 91,
   "metadata": {},
   "outputs": [
    {
     "name": "stdout",
     "output_type": "stream",
     "text": [
      "Percentage of male players: 81.15183246073299\n",
      "Count of males: 465\n"
     ]
    }
   ],
   "source": [
    "# Percentage and count of male players\n",
    "males = gender_data[1]\n",
    "perc_males = males/gender_data.sum() * 100\n",
    "print(\"Percentage of male players: \" + str(perc_males))\n",
    "print(\"Count of males: \" + str(males))"
   ]
  },
  {
   "cell_type": "code",
   "execution_count": 92,
   "metadata": {},
   "outputs": [
    {
     "name": "stdout",
     "output_type": "stream",
     "text": [
      "Percentage of female players: 17.452006980802793\n",
      "Count of females: 100\n"
     ]
    }
   ],
   "source": [
    "# Percentage and count of female players\n",
    "females = gender_data[0]\n",
    "perc_females = females/gender_data.sum() * 100\n",
    "print(\"Percentage of female players: \" + str(perc_females))\n",
    "print(\"Count of females: \" + str(females))"
   ]
  },
  {
   "cell_type": "code",
   "execution_count": 93,
   "metadata": {},
   "outputs": [
    {
     "name": "stdout",
     "output_type": "stream",
     "text": [
      "Percentage of female players: 17.452006980802793\n",
      "Count of females: 100\n"
     ]
    }
   ],
   "source": [
    "# Percentage and count of female players\n",
    "females = gender_data[0]\n",
    "perc_females = females/gender_data.sum() * 100\n",
    "print(\"Percentage of female players: \" + str(perc_females))\n",
    "print(\"Count of females: \" + str(females))"
   ]
  },
  {
   "cell_type": "code",
   "execution_count": 94,
   "metadata": {},
   "outputs": [
    {
     "name": "stdout",
     "output_type": "stream",
     "text": [
      "Percentage of Other/Non-disclosed players: 1.3961605584642234\n",
      "Count of Other/Non-disclosed: 8\n"
     ]
    }
   ],
   "source": [
    "# Percentage and count of Other/Non-disclosed players\n",
    "other = gender_data[2]\n",
    "perc_other = other/gender_data.sum() * 100\n",
    "print(\"Percentage of Other/Non-disclosed players: \" + str(perc_other))\n",
    "print(\"Count of Other/Non-disclosed: \" + str(other))"
   ]
  },
  {
   "cell_type": "code",
   "execution_count": null,
   "metadata": {},
   "outputs": [],
   "source": []
  },
  {
   "cell_type": "code",
   "execution_count": 104,
   "metadata": {},
   "outputs": [
    {
     "data": {
      "text/html": [
       "<div>\n",
       "<style scoped>\n",
       "    .dataframe tbody tr th:only-of-type {\n",
       "        vertical-align: middle;\n",
       "    }\n",
       "\n",
       "    .dataframe tbody tr th {\n",
       "        vertical-align: top;\n",
       "    }\n",
       "\n",
       "    .dataframe thead th {\n",
       "        text-align: right;\n",
       "    }\n",
       "</style>\n",
       "<table border=\"1\" class=\"dataframe\">\n",
       "  <thead>\n",
       "    <tr style=\"text-align: right;\">\n",
       "      <th></th>\n",
       "      <th>Purchase Count</th>\n",
       "      <th>Average Purchase Price</th>\n",
       "      <th>Total Purchase Value</th>\n",
       "      <th>Normalized Totals</th>\n",
       "    </tr>\n",
       "    <tr>\n",
       "      <th>Gender</th>\n",
       "      <th></th>\n",
       "      <th></th>\n",
       "      <th></th>\n",
       "      <th></th>\n",
       "    </tr>\n",
       "  </thead>\n",
       "  <tbody>\n",
       "    <tr>\n",
       "      <th>Female</th>\n",
       "      <td>136</td>\n",
       "      <td>$2.82</td>\n",
       "      <td>$382.91</td>\n",
       "      <td>$3.83</td>\n",
       "    </tr>\n",
       "    <tr>\n",
       "      <th>Male</th>\n",
       "      <td>633</td>\n",
       "      <td>$2.95</td>\n",
       "      <td>$1867.68</td>\n",
       "      <td>$4.02</td>\n",
       "    </tr>\n",
       "    <tr>\n",
       "      <th>Other / Non-Disclosed</th>\n",
       "      <td>11</td>\n",
       "      <td>$3.25</td>\n",
       "      <td>$35.74</td>\n",
       "      <td>$4.47</td>\n",
       "    </tr>\n",
       "  </tbody>\n",
       "</table>\n",
       "</div>"
      ],
      "text/plain": [
       "                       Purchase Count Average Purchase Price  \\\n",
       "Gender                                                         \n",
       "Female                            136                  $2.82   \n",
       "Male                              633                  $2.95   \n",
       "Other / Non-Disclosed              11                  $3.25   \n",
       "\n",
       "                      Total Purchase Value Normalized Totals  \n",
       "Gender                                                        \n",
       "Female                             $382.91             $3.83  \n",
       "Male                              $1867.68             $4.02  \n",
       "Other / Non-Disclosed               $35.74             $4.47  "
      ]
     },
     "execution_count": 104,
     "metadata": {},
     "output_type": "execute_result"
    }
   ],
   "source": [
    "gender_groups = house_data_df.groupby(['Gender'])\n",
    "\n",
    "gender_purchase = gender_groups[\"SN\"].count()\n",
    "\n",
    "avg_purchase_price = gender_groups[\"Price\"].mean()\n",
    "\n",
    "total_purchase_value = gender_groups[\"Price\"].sum()\n",
    "\n",
    "norm_totals = total_purchase_value/gender_data\n",
    "\n",
    "gender_pa = pd.DataFrame({\"Purchase Count\":gender_purchase,\n",
    "                            \"Average Purchase Price\":avg_purchase_price,\n",
    "                            \"Total Purchase Value\":total_purchase_value,\n",
    "                            \"Normalized Totals\":norm_totals,\n",
    "                     })\n",
    "\n",
    "gender_pa[\"Average Purchase Price\"] = gender_pa[\"Average Purchase Price\"].map(\"${:.2f}\".format)\n",
    "gender_pa[\"Total Purchase Value\"] = gender_pa[\"Total Purchase Value\"].map(\"${:.2f}\".format)\n",
    "gender_pa[\"Normalized Totals\"] = gender_pa[\"Normalized Totals\"].map(\"${:.2f}\".format)\n",
    "\n",
    "#Reorganizing Columns\n",
    "gender_pa2 = gender_pa[[\"Purchase Count\",\n",
    "                                       \"Average Purchase Price\",\n",
    "                                       \"Total Purchase Value\",\n",
    "                                       \"Normalized Totals\"\n",
    "                                       ]]\n",
    "\n",
    "\n",
    "gender_pa2"
   ]
  },
  {
   "cell_type": "code",
   "execution_count": 108,
   "metadata": {},
   "outputs": [
    {
     "data": {
      "text/html": [
       "<div>\n",
       "<style scoped>\n",
       "    .dataframe tbody tr th:only-of-type {\n",
       "        vertical-align: middle;\n",
       "    }\n",
       "\n",
       "    .dataframe tbody tr th {\n",
       "        vertical-align: top;\n",
       "    }\n",
       "\n",
       "    .dataframe thead th {\n",
       "        text-align: right;\n",
       "    }\n",
       "</style>\n",
       "<table border=\"1\" class=\"dataframe\">\n",
       "  <thead>\n",
       "    <tr style=\"text-align: right;\">\n",
       "      <th></th>\n",
       "      <th>Purchase Count</th>\n",
       "      <th>Average Purchase Price</th>\n",
       "      <th>Total Purchase Value</th>\n",
       "      <th>Normalized Totals</th>\n",
       "    </tr>\n",
       "    <tr>\n",
       "      <th></th>\n",
       "      <th></th>\n",
       "      <th></th>\n",
       "      <th></th>\n",
       "      <th></th>\n",
       "    </tr>\n",
       "  </thead>\n",
       "  <tbody>\n",
       "    <tr>\n",
       "      <th>&lt;10</th>\n",
       "      <td>32</td>\n",
       "      <td>$3.02</td>\n",
       "      <td>$96.62</td>\n",
       "      <td>$3.02</td>\n",
       "    </tr>\n",
       "    <tr>\n",
       "      <th>10-14</th>\n",
       "      <td>31</td>\n",
       "      <td>$2.70</td>\n",
       "      <td>$83.79</td>\n",
       "      <td>$2.70</td>\n",
       "    </tr>\n",
       "    <tr>\n",
       "      <th>15-19</th>\n",
       "      <td>133</td>\n",
       "      <td>$2.91</td>\n",
       "      <td>$386.42</td>\n",
       "      <td>$2.91</td>\n",
       "    </tr>\n",
       "    <tr>\n",
       "      <th>20-24</th>\n",
       "      <td>336</td>\n",
       "      <td>$2.91</td>\n",
       "      <td>$978.77</td>\n",
       "      <td>$2.91</td>\n",
       "    </tr>\n",
       "    <tr>\n",
       "      <th>25-29</th>\n",
       "      <td>125</td>\n",
       "      <td>$2.96</td>\n",
       "      <td>$370.33</td>\n",
       "      <td>$2.96</td>\n",
       "    </tr>\n",
       "    <tr>\n",
       "      <th>30-34</th>\n",
       "      <td>64</td>\n",
       "      <td>$3.08</td>\n",
       "      <td>$197.25</td>\n",
       "      <td>$3.08</td>\n",
       "    </tr>\n",
       "    <tr>\n",
       "      <th>35-39</th>\n",
       "      <td>42</td>\n",
       "      <td>$2.84</td>\n",
       "      <td>$119.40</td>\n",
       "      <td>$2.84</td>\n",
       "    </tr>\n",
       "    <tr>\n",
       "      <th>40+</th>\n",
       "      <td>17</td>\n",
       "      <td>$3.16</td>\n",
       "      <td>$53.75</td>\n",
       "      <td>$3.16</td>\n",
       "    </tr>\n",
       "  </tbody>\n",
       "</table>\n",
       "</div>"
      ],
      "text/plain": [
       "       Purchase Count Average Purchase Price Total Purchase Value  \\\n",
       "                                                                    \n",
       "<10                32                  $3.02               $96.62   \n",
       "10-14              31                  $2.70               $83.79   \n",
       "15-19             133                  $2.91              $386.42   \n",
       "20-24             336                  $2.91              $978.77   \n",
       "25-29             125                  $2.96              $370.33   \n",
       "30-34              64                  $3.08              $197.25   \n",
       "35-39              42                  $2.84              $119.40   \n",
       "40+                17                  $3.16               $53.75   \n",
       "\n",
       "      Normalized Totals  \n",
       "                         \n",
       "<10               $3.02  \n",
       "10-14             $2.70  \n",
       "15-19             $2.91  \n",
       "20-24             $2.91  \n",
       "25-29             $2.96  \n",
       "30-34             $3.08  \n",
       "35-39             $2.84  \n",
       "40+               $3.16  "
      ]
     },
     "execution_count": 108,
     "metadata": {},
     "output_type": "execute_result"
    }
   ],
   "source": [
    "# Age Demographics\n",
    "\n",
    "bins = [0,10,14,19,24,29,34,39,100]\n",
    "bin_names = ['<10','10-14','15-19','20-24','25-29','30-34','35-39','40+']\n",
    "house_data_df[' '] = pd.cut(house_data_df[\"Age\"], bins, labels=bin_names)\n",
    "df_age_group = house_data_df.groupby(' ')\n",
    "\n",
    "\n",
    "purchase_count = df_age_group[\"Age\"].count()\n",
    "\n",
    "avg_purchase_price = df_age_group[\"Price\"].mean()\n",
    "\n",
    "total_purchase_value = df_age_group[\"Price\"].sum()\n",
    "\n",
    "unique_age_count =df_age_group[\" \"].count()\n",
    "norm_age = total_purchase_value/unique_age_count\n",
    "\n",
    "df_age_group1 = pd.DataFrame({\"Purchase Count\":purchase_count,\n",
    "                            \"Average Purchase Price\":avg_purchase_price,\n",
    "                            \"Total Purchase Value\":total_purchase_value,\n",
    "                            \"Normalized Totals\":norm_age\n",
    "                     })\n",
    " \n",
    "df_age_group1[\"Average Purchase Price\"] = df_age_group1[\"Average Purchase Price\"].map(\"${:.2f}\".format)\n",
    "df_age_group1[\"Total Purchase Value\"] = df_age_group1[\"Total Purchase Value\"].map(\"${:.2f}\".format)\n",
    "df_age_group1[\"Normalized Totals\"] = df_age_group1[\"Normalized Totals\"].map(\"${:.2f}\".format)\n",
    "\n",
    "df_age_group2 = df_age_group1[[\"Purchase Count\",\n",
    "                            \"Average Purchase Price\",\n",
    "                            \"Total Purchase Value\",\n",
    "                            \"Normalized Totals\"\n",
    "                           ]]\n",
    "\n",
    "\n",
    "df_age_group2"
   ]
  },
  {
   "cell_type": "code",
   "execution_count": 109,
   "metadata": {},
   "outputs": [
    {
     "data": {
      "text/html": [
       "<div>\n",
       "<style scoped>\n",
       "    .dataframe tbody tr th:only-of-type {\n",
       "        vertical-align: middle;\n",
       "    }\n",
       "\n",
       "    .dataframe tbody tr th {\n",
       "        vertical-align: top;\n",
       "    }\n",
       "\n",
       "    .dataframe thead th {\n",
       "        text-align: right;\n",
       "    }\n",
       "</style>\n",
       "<table border=\"1\" class=\"dataframe\">\n",
       "  <thead>\n",
       "    <tr style=\"text-align: right;\">\n",
       "      <th></th>\n",
       "      <th>Purchase Count</th>\n",
       "      <th>Average Purchase Price</th>\n",
       "      <th>Total Purchase Value</th>\n",
       "    </tr>\n",
       "    <tr>\n",
       "      <th>SN</th>\n",
       "      <th></th>\n",
       "      <th></th>\n",
       "      <th></th>\n",
       "    </tr>\n",
       "  </thead>\n",
       "  <tbody>\n",
       "    <tr>\n",
       "      <th>Qarwen67</th>\n",
       "      <td>4</td>\n",
       "      <td>$2.49</td>\n",
       "      <td>$9.97</td>\n",
       "    </tr>\n",
       "    <tr>\n",
       "      <th>Sondim43</th>\n",
       "      <td>3</td>\n",
       "      <td>$3.13</td>\n",
       "      <td>$9.38</td>\n",
       "    </tr>\n",
       "    <tr>\n",
       "      <th>Tillyrin30</th>\n",
       "      <td>3</td>\n",
       "      <td>$3.06</td>\n",
       "      <td>$9.19</td>\n",
       "    </tr>\n",
       "    <tr>\n",
       "      <th>Lisistaya47</th>\n",
       "      <td>3</td>\n",
       "      <td>$3.06</td>\n",
       "      <td>$9.19</td>\n",
       "    </tr>\n",
       "    <tr>\n",
       "      <th>Tyisriphos58</th>\n",
       "      <td>2</td>\n",
       "      <td>$4.59</td>\n",
       "      <td>$9.18</td>\n",
       "    </tr>\n",
       "  </tbody>\n",
       "</table>\n",
       "</div>"
      ],
      "text/plain": [
       "              Purchase Count Average Purchase Price Total Purchase Value\n",
       "SN                                                                      \n",
       "Qarwen67                   4                  $2.49                $9.97\n",
       "Sondim43                   3                  $3.13                $9.38\n",
       "Tillyrin30                 3                  $3.06                $9.19\n",
       "Lisistaya47                3                  $3.06                $9.19\n",
       "Tyisriphos58               2                  $4.59                $9.18"
      ]
     },
     "execution_count": 109,
     "metadata": {},
     "output_type": "execute_result"
    }
   ],
   "source": [
    "# Top Spenders\n",
    "\n",
    "\n",
    "top_spenders = house_data_df.groupby(['SN'])\n",
    "\n",
    "purchase_count_sn = top_spenders[\"SN\"].count()\n",
    "\n",
    "avg_purchase_price = top_spenders[\"Price\"].mean()\n",
    "\n",
    "total_purchase_value = top_spenders[\"Price\"].sum()\n",
    "\n",
    "top_spender_summary = pd.DataFrame({\"Purchase Count\":purchase_count_sn,\n",
    "                            \"Average Purchase Price\":avg_purchase_price,\n",
    "                            \"Total Purchase Value\":total_purchase_value\n",
    "                     })\n",
    "\n",
    "top_spender_summary[\"Average Purchase Price\"] = top_spender_summary[\"Average Purchase Price\"].map(\"${:.2f}\".format)\n",
    "top_spender_summary[\"Total Purchase Value\"] = top_spender_summary[\"Total Purchase Value\"].map(\"${:.2f}\".format)\n",
    "\n",
    "top_spender_summary2 = top_spender_summary[[\"Purchase Count\",\n",
    "                                       \"Average Purchase Price\",\n",
    "                                       \"Total Purchase Value\",\n",
    "                                       ]]\n",
    "\n",
    "top_spender_summary3 = top_spender_summary2.sort_values('Total Purchase Value', ascending=False)\n",
    "top_spender_summary3.head()"
   ]
  },
  {
   "cell_type": "code",
   "execution_count": 113,
   "metadata": {},
   "outputs": [
    {
     "data": {
      "text/html": [
       "<div>\n",
       "<style scoped>\n",
       "    .dataframe tbody tr th:only-of-type {\n",
       "        vertical-align: middle;\n",
       "    }\n",
       "\n",
       "    .dataframe tbody tr th {\n",
       "        vertical-align: top;\n",
       "    }\n",
       "\n",
       "    .dataframe thead th {\n",
       "        text-align: right;\n",
       "    }\n",
       "</style>\n",
       "<table border=\"1\" class=\"dataframe\">\n",
       "  <thead>\n",
       "    <tr style=\"text-align: right;\">\n",
       "      <th></th>\n",
       "      <th></th>\n",
       "      <th>Purchase Count</th>\n",
       "      <th>Item Price</th>\n",
       "      <th>Total Purchase Value</th>\n",
       "    </tr>\n",
       "    <tr>\n",
       "      <th>Item ID</th>\n",
       "      <th>Item Name</th>\n",
       "      <th></th>\n",
       "      <th></th>\n",
       "      <th></th>\n",
       "    </tr>\n",
       "  </thead>\n",
       "  <tbody>\n",
       "    <tr>\n",
       "      <th>39</th>\n",
       "      <th>Betrayal, Whisper of Grieving Widows</th>\n",
       "      <td>11</td>\n",
       "      <td>$2.35</td>\n",
       "      <td>$25.85</td>\n",
       "    </tr>\n",
       "    <tr>\n",
       "      <th>84</th>\n",
       "      <th>Arcane Gem</th>\n",
       "      <td>11</td>\n",
       "      <td>$2.23</td>\n",
       "      <td>$24.53</td>\n",
       "    </tr>\n",
       "    <tr>\n",
       "      <th>31</th>\n",
       "      <th>Trickster</th>\n",
       "      <td>9</td>\n",
       "      <td>$2.07</td>\n",
       "      <td>$18.63</td>\n",
       "    </tr>\n",
       "    <tr>\n",
       "      <th>175</th>\n",
       "      <th>Woeful Adamantite Claymore</th>\n",
       "      <td>9</td>\n",
       "      <td>$1.24</td>\n",
       "      <td>$11.16</td>\n",
       "    </tr>\n",
       "    <tr>\n",
       "      <th>13</th>\n",
       "      <th>Serenity</th>\n",
       "      <td>9</td>\n",
       "      <td>$1.49</td>\n",
       "      <td>$13.41</td>\n",
       "    </tr>\n",
       "  </tbody>\n",
       "</table>\n",
       "</div>"
      ],
      "text/plain": [
       "                                              Purchase Count Item Price  \\\n",
       "Item ID Item Name                                                         \n",
       "39      Betrayal, Whisper of Grieving Widows              11      $2.35   \n",
       "84      Arcane Gem                                        11      $2.23   \n",
       "31      Trickster                                          9      $2.07   \n",
       "175     Woeful Adamantite Claymore                         9      $1.24   \n",
       "13      Serenity                                           9      $1.49   \n",
       "\n",
       "                                             Total Purchase Value  \n",
       "Item ID Item Name                                                  \n",
       "39      Betrayal, Whisper of Grieving Widows               $25.85  \n",
       "84      Arcane Gem                                         $24.53  \n",
       "31      Trickster                                          $18.63  \n",
       "175     Woeful Adamantite Claymore                         $11.16  \n",
       "13      Serenity                                           $13.41  "
      ]
     },
     "execution_count": 113,
     "metadata": {},
     "output_type": "execute_result"
    }
   ],
   "source": [
    "#Most Popular Items\n",
    "\n",
    "pop_items = house_data_df.groupby(['Item ID','Item Name'])\n",
    "\n",
    "purchase_count_it = pop_items[\"SN\"].count()\n",
    "\n",
    "avg_purchase_price = pop_items[\"Price\"].mean()\n",
    "\n",
    "total_purchase_value = pop_items[\"Price\"].sum()\n",
    "\n",
    "pop_items_table = pd.DataFrame({\"Purchase Count\":purchase_count_it,\n",
    "                            \"Item Price\":avg_purchase_price,\n",
    "                            \"Total Purchase Value\":total_purchase_value\n",
    "                     })\n",
    " \n",
    "pop_items_table[\"Item Price\"] = pop_items_table[\"Item Price\"].map(\"${:.2f}\".format)\n",
    "pop_items_table[\"Total Purchase Value\"] = pop_items_table[\"Total Purchase Value\"].map(\"${:.2f}\".format)\n",
    "\n",
    "pop_items_table2 = pop_items_table[[\"Purchase Count\",\n",
    "                                       \"Item Price\",\n",
    "                                       \"Total Purchase Value\",\n",
    "                                       ]]\n",
    "\n",
    "pop_items_table3 = pop_items_table2.sort_values('Purchase Count', ascending=False)\n",
    "pop_items_table3.head()"
   ]
  },
  {
   "cell_type": "code",
   "execution_count": 112,
   "metadata": {},
   "outputs": [
    {
     "data": {
      "text/html": [
       "<div>\n",
       "<style scoped>\n",
       "    .dataframe tbody tr th:only-of-type {\n",
       "        vertical-align: middle;\n",
       "    }\n",
       "\n",
       "    .dataframe tbody tr th {\n",
       "        vertical-align: top;\n",
       "    }\n",
       "\n",
       "    .dataframe thead th {\n",
       "        text-align: right;\n",
       "    }\n",
       "</style>\n",
       "<table border=\"1\" class=\"dataframe\">\n",
       "  <thead>\n",
       "    <tr style=\"text-align: right;\">\n",
       "      <th></th>\n",
       "      <th></th>\n",
       "      <th>Purchase Count</th>\n",
       "      <th>Item Price</th>\n",
       "      <th>Total Purchase Value</th>\n",
       "    </tr>\n",
       "    <tr>\n",
       "      <th>Item ID</th>\n",
       "      <th>Item Name</th>\n",
       "      <th></th>\n",
       "      <th></th>\n",
       "      <th></th>\n",
       "    </tr>\n",
       "  </thead>\n",
       "  <tbody>\n",
       "    <tr>\n",
       "      <th>170</th>\n",
       "      <th>Shadowsteel</th>\n",
       "      <td>5</td>\n",
       "      <td>$1.98</td>\n",
       "      <td>$9.90</td>\n",
       "    </tr>\n",
       "    <tr>\n",
       "      <th>21</th>\n",
       "      <th>Souleater</th>\n",
       "      <td>3</td>\n",
       "      <td>$3.27</td>\n",
       "      <td>$9.81</td>\n",
       "    </tr>\n",
       "    <tr>\n",
       "      <th>37</th>\n",
       "      <th>Shadow Strike, Glory of Ending Hope</th>\n",
       "      <td>5</td>\n",
       "      <td>$1.93</td>\n",
       "      <td>$9.65</td>\n",
       "    </tr>\n",
       "    <tr>\n",
       "      <th>127</th>\n",
       "      <th>Heartseeker, Reaver of Souls</th>\n",
       "      <td>3</td>\n",
       "      <td>$3.21</td>\n",
       "      <td>$9.63</td>\n",
       "    </tr>\n",
       "    <tr>\n",
       "      <th>120</th>\n",
       "      <th>Agatha</th>\n",
       "      <td>5</td>\n",
       "      <td>$1.91</td>\n",
       "      <td>$9.55</td>\n",
       "    </tr>\n",
       "  </tbody>\n",
       "</table>\n",
       "</div>"
      ],
      "text/plain": [
       "                                             Purchase Count Item Price  \\\n",
       "Item ID Item Name                                                        \n",
       "170     Shadowsteel                                       5      $1.98   \n",
       "21      Souleater                                         3      $3.27   \n",
       "37      Shadow Strike, Glory of Ending Hope               5      $1.93   \n",
       "127     Heartseeker, Reaver of Souls                      3      $3.21   \n",
       "120     Agatha                                            5      $1.91   \n",
       "\n",
       "                                            Total Purchase Value  \n",
       "Item ID Item Name                                                 \n",
       "170     Shadowsteel                                        $9.90  \n",
       "21      Souleater                                          $9.81  \n",
       "37      Shadow Strike, Glory of Ending Hope                $9.65  \n",
       "127     Heartseeker, Reaver of Souls                       $9.63  \n",
       "120     Agatha                                             $9.55  "
      ]
     },
     "execution_count": 112,
     "metadata": {},
     "output_type": "execute_result"
    }
   ],
   "source": [
    "most_profitable = house_data_df.groupby(['Item ID','Item Name'])\n",
    "\n",
    "purchase_count_prof = most_profitable[\"SN\"].count()\n",
    "\n",
    "avg_purchase_price = most_profitable[\"Price\"].mean()\n",
    "\n",
    "total_purchase_value = most_profitable[\"Price\"].sum()\n",
    "\n",
    "most_profitable_table = pd.DataFrame({\"Purchase Count\":purchase_count_prof,\n",
    "                            \"Item Price\":avg_purchase_price,\n",
    "                            \"Total Purchase Value\":total_purchase_value\n",
    "                     })\n",
    "\n",
    "most_profitable_table[\"Item Price\"] = most_profitable_table[\"Item Price\"].map(\"${:.2f}\".format)\n",
    "most_profitable_table[\"Total Purchase Value\"] = most_profitable_table[\"Total Purchase Value\"].map(\"${:.2f}\".format)\n",
    "\n",
    "most_profitable_table2 = most_profitable_table[[\"Purchase Count\",\n",
    "                                       \"Item Price\",\n",
    "                                       \"Total Purchase Value\",\n",
    "                                       ]]\n",
    "\n",
    "most_profitable_table3 = most_profitable_table2.sort_values('Total Purchase Value', ascending=False)\n",
    "most_profitable_table3.head()\n"
   ]
  },
  {
   "cell_type": "code",
   "execution_count": null,
   "metadata": {},
   "outputs": [],
   "source": []
  }
 ],
 "metadata": {
  "kernelspec": {
   "display_name": "Python 3",
   "language": "python",
   "name": "python3"
  },
  "language_info": {
   "codemirror_mode": {
    "name": "ipython",
    "version": 3
   },
   "file_extension": ".py",
   "mimetype": "text/x-python",
   "name": "python",
   "nbconvert_exporter": "python",
   "pygments_lexer": "ipython3",
   "version": "3.6.4"
  }
 },
 "nbformat": 4,
 "nbformat_minor": 2
}
